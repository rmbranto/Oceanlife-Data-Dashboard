{
 "cells": [
  {
   "cell_type": "code",
   "execution_count": 1,
   "id": "a058231b",
   "metadata": {},
   "outputs": [
    {
     "name": "stderr",
     "output_type": "stream",
     "text": [
      "See ?WDQS for resources on Wikidata Query Service and SPARQL\n"
     ]
    }
   ],
   "source": [
    "library(WikidataR)\n",
    "library(WikidataQueryServiceR)"
   ]
  },
  {
   "cell_type": "code",
   "execution_count": 5,
   "id": "6cd52933",
   "metadata": {},
   "outputs": [],
   "source": [
    "my.species='Pterois volitans'"
   ]
  },
  {
   "cell_type": "code",
   "execution_count": null,
   "id": "45391e13",
   "metadata": {},
   "outputs": [],
   "source": [
    "my.species='Codium fragile'"
   ]
  },
  {
   "cell_type": "code",
   "execution_count": 2,
   "id": "93f16bf1",
   "metadata": {},
   "outputs": [],
   "source": [
    "my.species='Carcinus maenas'"
   ]
  },
  {
   "cell_type": "code",
   "execution_count": 6,
   "id": "da64a5d8",
   "metadata": {},
   "outputs": [],
   "source": [
    "result=query_wikidata(gsub('my.species',my.species,'SELECT DISTINCT ?item ?itemLabel WHERE {\n",
    "  SERVICE wikibase:label { bd:serviceParam wikibase:language \"[AUTO_LANGUAGE]\". }\n",
    "  {\n",
    "    SELECT DISTINCT ?item WHERE {\n",
    "      ?item p:P225 ?statement0.\n",
    "      ?statement0 ps:P225 \"my.species\".\n",
    "    }\n",
    "    LIMIT 100\n",
    "  }\n",
    "}'))"
   ]
  },
  {
   "cell_type": "code",
   "execution_count": 7,
   "id": "af2743c0",
   "metadata": {},
   "outputs": [
    {
     "data": {
      "text/html": [
       "'&lt;a href=\"https://www.wikidata.org/wiki/Q824672\"&gt;** Wikidata TAXON INFO **&lt;/a&gt;'"
      ],
      "text/latex": [
       "'<a href=\"https://www.wikidata.org/wiki/Q824672\">** Wikidata TAXON INFO **</a>'"
      ],
      "text/markdown": [
       "'&lt;a href=\"https://www.wikidata.org/wiki/Q824672\"&gt;** Wikidata TAXON INFO **&lt;/a&gt;'"
      ],
      "text/plain": [
       "[1] \"<a href=\\\"https://www.wikidata.org/wiki/Q824672\\\">** Wikidata TAXON INFO **</a>\""
      ]
     },
     "metadata": {},
     "output_type": "display_data"
    }
   ],
   "source": [
    "paste('<a href=\"https://www.wikidata.org/wiki/',\n",
    "      as.data.frame(result)$itemLabel,\n",
    "      '\">** Wikidata TAXON INFO **</a>',\n",
    "      sep='')"
   ]
  },
  {
   "cell_type": "code",
   "execution_count": null,
   "id": "8b5f8b1b",
   "metadata": {},
   "outputs": [],
   "source": []
  }
 ],
 "metadata": {
  "kernelspec": {
   "display_name": "R",
   "language": "R",
   "name": "ir"
  },
  "language_info": {
   "codemirror_mode": "r",
   "file_extension": ".r",
   "mimetype": "text/x-r-source",
   "name": "R",
   "pygments_lexer": "r",
   "version": "3.6.3"
  }
 },
 "nbformat": 4,
 "nbformat_minor": 5
}
