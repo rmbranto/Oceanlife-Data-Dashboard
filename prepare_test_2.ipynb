{
 "cells": [
  {
   "cell_type": "code",
   "execution_count": 1,
   "id": "d1d320c7",
   "metadata": {},
   "outputs": [
    {
     "name": "stderr",
     "output_type": "stream",
     "text": [
      "Registered S3 method overwritten by 'hoardr':\n",
      "  method           from\n",
      "  print.cache_info httr\n",
      "Linking to GEOS 3.9.1, GDAL 3.3.0, PROJ 8.0.0\n"
     ]
    },
    {
     "name": "stdout",
     "output_type": "stream",
     "text": [
      "Carcinus maenas ...\n",
      "Caulerpa taxifolia ...\n",
      "Codium fragile ...\n",
      "Dreissena polymorpha ...\n"
     ]
    },
    {
     "name": "stderr",
     "output_type": "stream",
     "text": [
      "Warning message in foo_ala(sources, x, y, s, z, hc, d, w, ds$ala):\n",
      "“No records returned in ALA for Dreissena polymorpha”"
     ]
    },
    {
     "name": "stdout",
     "output_type": "stream",
     "text": [
      "Mnemiopsis leidyi ...\n"
     ]
    },
    {
     "name": "stderr",
     "output_type": "stream",
     "text": [
      "Warning message in foo_ala(sources, x, y, s, z, hc, d, w, ds$ala):\n",
      "“No records returned in ALA for Mnemiopsis leidyi”"
     ]
    },
    {
     "name": "stdout",
     "output_type": "stream",
     "text": [
      "Pterois volitans ...\n",
      "Rapana venosa ...\n"
     ]
    },
    {
     "name": "stderr",
     "output_type": "stream",
     "text": [
      "Warning message:\n",
      "“bison: No records returned in Bison for Rapana venosa”Warning message:\n",
      "“bison: ”Warning message in foo_ala(sources, x, y, s, z, hc, d, w, ds$ala):\n",
      "“No records returned in ALA for Rapana venosa”"
     ]
    },
    {
     "name": "stdout",
     "output_type": "stream",
     "text": [
      "\n",
      "# df.raw counts by species ...\n",
      "\n",
      "                     ala bison gbif idigbio inat obis total\n",
      "Carcinus maenas        9     9    9       9    9    9    54\n",
      "Caulerpa taxifolia     9     9    9       9    9    9    54\n",
      "Codium fragile         9     9    9       9    9    9    54\n",
      "Dreissena polymorpha   0     9    9       9    9    9    45\n",
      "Mnemiopsis leidyi      0     9    9       9    9    9    45\n",
      "Pterois volitans       9     9    9       9    9    9    54\n",
      "Rapana venosa          0     0    9       9    9    9    36\n",
      "total                 36    54   63      63   63   63   342\n"
     ]
    },
    {
     "name": "stderr",
     "output_type": "stream",
     "text": [
      "Assuming 'latitude' is latitude\n",
      "Assuming 'longitude' is longitude\n"
     ]
    },
    {
     "data": {
      "text/html": [
       "291"
      ],
      "text/latex": [
       "291"
      ],
      "text/markdown": [
       "291"
      ],
      "text/plain": [
       "[1] 291"
      ]
     },
     "metadata": {},
     "output_type": "display_data"
    },
    {
     "data": {
      "text/html": [
       "<style>\n",
       ".list-inline {list-style: none; margin:0; padding: 0}\n",
       ".list-inline>li {display: inline-block}\n",
       ".list-inline>li:not(:last-child)::after {content: \"\\00b7\"; padding: 0 .5ex}\n",
       "</style>\n",
       "<ol class=list-inline><li><time datetime=\"1881-08-19\">1881-08-19</time></li><li><time datetime=\"2021-10-12\">2021-10-12</time></li></ol>\n"
      ],
      "text/latex": [
       "\\begin{enumerate*}\n",
       "\\item 1881-08-19\n",
       "\\item 2021-10-12\n",
       "\\end{enumerate*}\n"
      ],
      "text/markdown": [
       "1. 1881-08-19\n",
       "2. 2021-10-12\n",
       "\n",
       "\n"
      ],
      "text/plain": [
       "[1] \"1881-08-19\" \"2021-10-12\""
      ]
     },
     "metadata": {},
     "output_type": "display_data"
    },
    {
     "name": "stdout",
     "output_type": "stream",
     "text": [
      "\n",
      "# df.clean counts by species & prov ...\n",
      "\n",
      "                     ala bison gbif idigbio inat obis ALL\n",
      "Carcinus maenas        7     9    9       5    9    8  47\n",
      "Caulerpa taxifolia     5     9    9       7    9    7  46\n",
      "Codium fragile         3     9    9       8    9    7  45\n",
      "Dreissena polymorpha   0     9    9       5    9    3  35\n",
      "Mnemiopsis leidyi      0     5    9       9    9    7  39\n",
      "Pterois volitans       7     9    9       8    9    5  47\n",
      "Rapana venosa          0     0    9       8    9    6  32\n",
      "col.totals            22    50   63      50   63   43 291\n",
      "\n",
      "# df.clean occurrrence counts by species & provs and by ALL, UNIQUE & DUPS ...\n",
      "\n",
      "                     ala bison gbif idigbio inat obis ALL UNIQUE DUPS\n",
      "Carcinus maenas        7     9    9       5    9    8  47     39    8\n",
      "Caulerpa taxifolia     5     9    9       7    9    7  46     42    4\n",
      "Codium fragile         3     9    9       8    9    7  45     44    1\n",
      "Dreissena polymorpha   0     9    9       5    9    3  35     35    0\n",
      "Mnemiopsis leidyi      0     5    9       9    9    7  39     35    4\n",
      "Pterois volitans       7     9    9       8    9    5  47     44    3\n",
      "Rapana venosa          0     0    9       8    9    6  32     32    0\n",
      "col.totals            22    50   63      50   63   43 291    271   20\n",
      "\n",
      "# df.unique...\n",
      "\n",
      "UNIQUE= 271 \n"
     ]
    },
    {
     "data": {
      "text/html": [
       "<table class=\"dataframe\">\n",
       "<caption>A data.frame: 6 × 6</caption>\n",
       "<thead>\n",
       "\t<tr><th></th><th scope=col>species</th><th scope=col>longitude</th><th scope=col>latitude</th><th scope=col>date</th><th scope=col>DUPS</th><th scope=col>id</th></tr>\n",
       "\t<tr><th></th><th scope=col>&lt;chr&gt;</th><th scope=col>&lt;dbl&gt;</th><th scope=col>&lt;dbl&gt;</th><th scope=col>&lt;date&gt;</th><th scope=col>&lt;int&gt;</th><th scope=col>&lt;int&gt;</th></tr>\n",
       "</thead>\n",
       "<tbody>\n",
       "\t<tr><th scope=row>1</th><td>Carcinus maenas</td><td>-132.1368</td><td>53.24564</td><td>2021-10-12</td><td>1</td><td>1</td></tr>\n",
       "\t<tr><th scope=row>2</th><td>Carcinus maenas</td><td>-128.2755</td><td>50.67302</td><td>2021-10-11</td><td>1</td><td>2</td></tr>\n",
       "\t<tr><th scope=row>3</th><td>Carcinus maenas</td><td>-127.7617</td><td>51.48631</td><td>2017-07-25</td><td>1</td><td>3</td></tr>\n",
       "\t<tr><th scope=row>4</th><td>Carcinus maenas</td><td>-125.9670</td><td>49.17315</td><td>2021-01-06</td><td>1</td><td>4</td></tr>\n",
       "\t<tr><th scope=row>5</th><td>Carcinus maenas</td><td>-122.3161</td><td>37.58452</td><td>2021-01-01</td><td>1</td><td>5</td></tr>\n",
       "\t<tr><th scope=row>6</th><td>Carcinus maenas</td><td>-121.8880</td><td>36.78990</td><td>2006-05-25</td><td>1</td><td>6</td></tr>\n",
       "</tbody>\n",
       "</table>\n"
      ],
      "text/latex": [
       "A data.frame: 6 × 6\n",
       "\\begin{tabular}{r|llllll}\n",
       "  & species & longitude & latitude & date & DUPS & id\\\\\n",
       "  & <chr> & <dbl> & <dbl> & <date> & <int> & <int>\\\\\n",
       "\\hline\n",
       "\t1 & Carcinus maenas & -132.1368 & 53.24564 & 2021-10-12 & 1 & 1\\\\\n",
       "\t2 & Carcinus maenas & -128.2755 & 50.67302 & 2021-10-11 & 1 & 2\\\\\n",
       "\t3 & Carcinus maenas & -127.7617 & 51.48631 & 2017-07-25 & 1 & 3\\\\\n",
       "\t4 & Carcinus maenas & -125.9670 & 49.17315 & 2021-01-06 & 1 & 4\\\\\n",
       "\t5 & Carcinus maenas & -122.3161 & 37.58452 & 2021-01-01 & 1 & 5\\\\\n",
       "\t6 & Carcinus maenas & -121.8880 & 36.78990 & 2006-05-25 & 1 & 6\\\\\n",
       "\\end{tabular}\n"
      ],
      "text/markdown": [
       "\n",
       "A data.frame: 6 × 6\n",
       "\n",
       "| <!--/--> | species &lt;chr&gt; | longitude &lt;dbl&gt; | latitude &lt;dbl&gt; | date &lt;date&gt; | DUPS &lt;int&gt; | id &lt;int&gt; |\n",
       "|---|---|---|---|---|---|---|\n",
       "| 1 | Carcinus maenas | -132.1368 | 53.24564 | 2021-10-12 | 1 | 1 |\n",
       "| 2 | Carcinus maenas | -128.2755 | 50.67302 | 2021-10-11 | 1 | 2 |\n",
       "| 3 | Carcinus maenas | -127.7617 | 51.48631 | 2017-07-25 | 1 | 3 |\n",
       "| 4 | Carcinus maenas | -125.9670 | 49.17315 | 2021-01-06 | 1 | 4 |\n",
       "| 5 | Carcinus maenas | -122.3161 | 37.58452 | 2021-01-01 | 1 | 5 |\n",
       "| 6 | Carcinus maenas | -121.8880 | 36.78990 | 2006-05-25 | 1 | 6 |\n",
       "\n"
      ],
      "text/plain": [
       "  species         longitude latitude date       DUPS id\n",
       "1 Carcinus maenas -132.1368 53.24564 2021-10-12 1    1 \n",
       "2 Carcinus maenas -128.2755 50.67302 2021-10-11 1    2 \n",
       "3 Carcinus maenas -127.7617 51.48631 2017-07-25 1    3 \n",
       "4 Carcinus maenas -125.9670 49.17315 2021-01-06 1    4 \n",
       "5 Carcinus maenas -122.3161 37.58452 2021-01-01 1    5 \n",
       "6 Carcinus maenas -121.8880 36.78990 2006-05-25 1    6 "
      ]
     },
     "metadata": {},
     "output_type": "display_data"
    },
    {
     "name": "stdout",
     "output_type": "stream",
     "text": [
      "\n",
      "# df.ALL...\n",
      "\n",
      "ALL= 291 \n",
      "UNIQUE= 271 \n",
      "DUPS= 20"
     ]
    },
    {
     "data": {
      "text/html": [
       "<table class=\"dataframe\">\n",
       "<caption>A data.frame: 6 × 9</caption>\n",
       "<thead>\n",
       "\t<tr><th></th><th scope=col>species</th><th scope=col>longitude</th><th scope=col>latitude</th><th scope=col>date</th><th scope=col>name</th><th scope=col>prov</th><th scope=col>key</th><th scope=col>DUPS</th><th scope=col>id</th></tr>\n",
       "\t<tr><th></th><th scope=col>&lt;chr&gt;</th><th scope=col>&lt;dbl&gt;</th><th scope=col>&lt;dbl&gt;</th><th scope=col>&lt;date&gt;</th><th scope=col>&lt;chr&gt;</th><th scope=col>&lt;chr&gt;</th><th scope=col>&lt;chr&gt;</th><th scope=col>&lt;int&gt;</th><th scope=col>&lt;int&gt;</th></tr>\n",
       "</thead>\n",
       "<tbody>\n",
       "\t<tr><th scope=row>1</th><td>Carcinus maenas</td><td>  -0.02023197</td><td>49.31939</td><td>2021-10-12</td><td>Carcinus maenas                 </td><td>inat   </td><td>98006821                            </td><td>1</td><td>21</td></tr>\n",
       "\t<tr><th scope=row>2</th><td>Carcinus maenas</td><td>-121.88800000</td><td>36.78990</td><td>2006-05-25</td><td>carcinus maenas                 </td><td>idigbio</td><td>08db409c-e534-4d64-9eaa-9279d27b5df7</td><td>1</td><td> 6</td></tr>\n",
       "\t<tr><th scope=row>3</th><td>Carcinus maenas</td><td>-122.31613000</td><td>37.58452</td><td>2021-01-01</td><td>Carcinus maenas (Linnaeus, 1758)</td><td>gbif   </td><td>3018141707                          </td><td>1</td><td> 5</td></tr>\n",
       "\t<tr><th scope=row>4</th><td>Carcinus maenas</td><td>-125.96701300</td><td>49.17315</td><td>2021-01-06</td><td>Carcinus maenas (Linnaeus, 1758)</td><td>gbif   </td><td>3018091186                          </td><td>1</td><td> 4</td></tr>\n",
       "\t<tr><th scope=row>5</th><td>Carcinus maenas</td><td>-127.76165000</td><td>51.48631</td><td>2017-07-25</td><td>carcinus maenas                 </td><td>idigbio</td><td>0226b0e9-ceb2-41d2-bb3c-5e8e95c95c32</td><td>1</td><td> 3</td></tr>\n",
       "\t<tr><th scope=row>6</th><td>Carcinus maenas</td><td>-128.27545938</td><td>50.67302</td><td>2021-10-11</td><td>Carcinus maenas                 </td><td>inat   </td><td>97969889                            </td><td>1</td><td> 2</td></tr>\n",
       "</tbody>\n",
       "</table>\n"
      ],
      "text/latex": [
       "A data.frame: 6 × 9\n",
       "\\begin{tabular}{r|lllllllll}\n",
       "  & species & longitude & latitude & date & name & prov & key & DUPS & id\\\\\n",
       "  & <chr> & <dbl> & <dbl> & <date> & <chr> & <chr> & <chr> & <int> & <int>\\\\\n",
       "\\hline\n",
       "\t1 & Carcinus maenas &   -0.02023197 & 49.31939 & 2021-10-12 & Carcinus maenas                  & inat    & 98006821                             & 1 & 21\\\\\n",
       "\t2 & Carcinus maenas & -121.88800000 & 36.78990 & 2006-05-25 & carcinus maenas                  & idigbio & 08db409c-e534-4d64-9eaa-9279d27b5df7 & 1 &  6\\\\\n",
       "\t3 & Carcinus maenas & -122.31613000 & 37.58452 & 2021-01-01 & Carcinus maenas (Linnaeus, 1758) & gbif    & 3018141707                           & 1 &  5\\\\\n",
       "\t4 & Carcinus maenas & -125.96701300 & 49.17315 & 2021-01-06 & Carcinus maenas (Linnaeus, 1758) & gbif    & 3018091186                           & 1 &  4\\\\\n",
       "\t5 & Carcinus maenas & -127.76165000 & 51.48631 & 2017-07-25 & carcinus maenas                  & idigbio & 0226b0e9-ceb2-41d2-bb3c-5e8e95c95c32 & 1 &  3\\\\\n",
       "\t6 & Carcinus maenas & -128.27545938 & 50.67302 & 2021-10-11 & Carcinus maenas                  & inat    & 97969889                             & 1 &  2\\\\\n",
       "\\end{tabular}\n"
      ],
      "text/markdown": [
       "\n",
       "A data.frame: 6 × 9\n",
       "\n",
       "| <!--/--> | species &lt;chr&gt; | longitude &lt;dbl&gt; | latitude &lt;dbl&gt; | date &lt;date&gt; | name &lt;chr&gt; | prov &lt;chr&gt; | key &lt;chr&gt; | DUPS &lt;int&gt; | id &lt;int&gt; |\n",
       "|---|---|---|---|---|---|---|---|---|---|\n",
       "| 1 | Carcinus maenas |   -0.02023197 | 49.31939 | 2021-10-12 | Carcinus maenas                  | inat    | 98006821                             | 1 | 21 |\n",
       "| 2 | Carcinus maenas | -121.88800000 | 36.78990 | 2006-05-25 | carcinus maenas                  | idigbio | 08db409c-e534-4d64-9eaa-9279d27b5df7 | 1 |  6 |\n",
       "| 3 | Carcinus maenas | -122.31613000 | 37.58452 | 2021-01-01 | Carcinus maenas (Linnaeus, 1758) | gbif    | 3018141707                           | 1 |  5 |\n",
       "| 4 | Carcinus maenas | -125.96701300 | 49.17315 | 2021-01-06 | Carcinus maenas (Linnaeus, 1758) | gbif    | 3018091186                           | 1 |  4 |\n",
       "| 5 | Carcinus maenas | -127.76165000 | 51.48631 | 2017-07-25 | carcinus maenas                  | idigbio | 0226b0e9-ceb2-41d2-bb3c-5e8e95c95c32 | 1 |  3 |\n",
       "| 6 | Carcinus maenas | -128.27545938 | 50.67302 | 2021-10-11 | Carcinus maenas                  | inat    | 97969889                             | 1 |  2 |\n",
       "\n"
      ],
      "text/plain": [
       "  species         longitude     latitude date      \n",
       "1 Carcinus maenas   -0.02023197 49.31939 2021-10-12\n",
       "2 Carcinus maenas -121.88800000 36.78990 2006-05-25\n",
       "3 Carcinus maenas -122.31613000 37.58452 2021-01-01\n",
       "4 Carcinus maenas -125.96701300 49.17315 2021-01-06\n",
       "5 Carcinus maenas -127.76165000 51.48631 2017-07-25\n",
       "6 Carcinus maenas -128.27545938 50.67302 2021-10-11\n",
       "  name                             prov    key                                 \n",
       "1 Carcinus maenas                  inat    98006821                            \n",
       "2 carcinus maenas                  idigbio 08db409c-e534-4d64-9eaa-9279d27b5df7\n",
       "3 Carcinus maenas (Linnaeus, 1758) gbif    3018141707                          \n",
       "4 Carcinus maenas (Linnaeus, 1758) gbif    3018091186                          \n",
       "5 carcinus maenas                  idigbio 0226b0e9-ceb2-41d2-bb3c-5e8e95c95c32\n",
       "6 Carcinus maenas                  inat    97969889                            \n",
       "  DUPS id\n",
       "1 1    21\n",
       "2 1     6\n",
       "3 1     5\n",
       "4 1     4\n",
       "5 1     3\n",
       "6 1     2"
      ]
     },
     "metadata": {},
     "output_type": "display_data"
    },
    {
     "name": "stdout",
     "output_type": "stream",
     "text": [
      "\n",
      "# df.DUPS...\n",
      "\n",
      "nrows= 10 \n",
      "DUPS= 20 \n"
     ]
    },
    {
     "data": {
      "text/html": [
       "<table class=\"dataframe\">\n",
       "<caption>A data.frame: 6 × 6</caption>\n",
       "<thead>\n",
       "\t<tr><th></th><th scope=col>species</th><th scope=col>longitude</th><th scope=col>latitude</th><th scope=col>date</th><th scope=col>DUPS</th><th scope=col>id</th></tr>\n",
       "\t<tr><th></th><th scope=col>&lt;chr&gt;</th><th scope=col>&lt;dbl&gt;</th><th scope=col>&lt;dbl&gt;</th><th scope=col>&lt;date&gt;</th><th scope=col>&lt;int&gt;</th><th scope=col>&lt;int&gt;</th></tr>\n",
       "</thead>\n",
       "<tbody>\n",
       "\t<tr><th scope=row>1</th><td>Carcinus maenas   </td><td>-54.1800</td><td> 47.10000</td><td>2011-06-01</td><td>8</td><td>14</td></tr>\n",
       "\t<tr><th scope=row>2</th><td>Carcinus maenas   </td><td>149.9283</td><td>-37.11600</td><td>1985-03-25</td><td>2</td><td>39</td></tr>\n",
       "\t<tr><th scope=row>3</th><td>Caulerpa taxifolia</td><td>-83.3572</td><td> 26.76440</td><td>1980-10-29</td><td>2</td><td>54</td></tr>\n",
       "\t<tr><th scope=row>4</th><td>Caulerpa taxifolia</td><td>-80.5667</td><td> 24.98330</td><td>1994-12-01</td><td>2</td><td>55</td></tr>\n",
       "\t<tr><th scope=row>5</th><td>Caulerpa taxifolia</td><td>150.4700</td><td>-35.25000</td><td>2000-06-07</td><td>2</td><td>77</td></tr>\n",
       "\t<tr><th scope=row>6</th><td>Caulerpa taxifolia</td><td>151.1113</td><td>-34.06925</td><td>2021-03-01</td><td>2</td><td>78</td></tr>\n",
       "</tbody>\n",
       "</table>\n"
      ],
      "text/latex": [
       "A data.frame: 6 × 6\n",
       "\\begin{tabular}{r|llllll}\n",
       "  & species & longitude & latitude & date & DUPS & id\\\\\n",
       "  & <chr> & <dbl> & <dbl> & <date> & <int> & <int>\\\\\n",
       "\\hline\n",
       "\t1 & Carcinus maenas    & -54.1800 &  47.10000 & 2011-06-01 & 8 & 14\\\\\n",
       "\t2 & Carcinus maenas    & 149.9283 & -37.11600 & 1985-03-25 & 2 & 39\\\\\n",
       "\t3 & Caulerpa taxifolia & -83.3572 &  26.76440 & 1980-10-29 & 2 & 54\\\\\n",
       "\t4 & Caulerpa taxifolia & -80.5667 &  24.98330 & 1994-12-01 & 2 & 55\\\\\n",
       "\t5 & Caulerpa taxifolia & 150.4700 & -35.25000 & 2000-06-07 & 2 & 77\\\\\n",
       "\t6 & Caulerpa taxifolia & 151.1113 & -34.06925 & 2021-03-01 & 2 & 78\\\\\n",
       "\\end{tabular}\n"
      ],
      "text/markdown": [
       "\n",
       "A data.frame: 6 × 6\n",
       "\n",
       "| <!--/--> | species &lt;chr&gt; | longitude &lt;dbl&gt; | latitude &lt;dbl&gt; | date &lt;date&gt; | DUPS &lt;int&gt; | id &lt;int&gt; |\n",
       "|---|---|---|---|---|---|---|\n",
       "| 1 | Carcinus maenas    | -54.1800 |  47.10000 | 2011-06-01 | 8 | 14 |\n",
       "| 2 | Carcinus maenas    | 149.9283 | -37.11600 | 1985-03-25 | 2 | 39 |\n",
       "| 3 | Caulerpa taxifolia | -83.3572 |  26.76440 | 1980-10-29 | 2 | 54 |\n",
       "| 4 | Caulerpa taxifolia | -80.5667 |  24.98330 | 1994-12-01 | 2 | 55 |\n",
       "| 5 | Caulerpa taxifolia | 150.4700 | -35.25000 | 2000-06-07 | 2 | 77 |\n",
       "| 6 | Caulerpa taxifolia | 151.1113 | -34.06925 | 2021-03-01 | 2 | 78 |\n",
       "\n"
      ],
      "text/plain": [
       "  species            longitude latitude  date       DUPS id\n",
       "1 Carcinus maenas    -54.1800   47.10000 2011-06-01 8    14\n",
       "2 Carcinus maenas    149.9283  -37.11600 1985-03-25 2    39\n",
       "3 Caulerpa taxifolia -83.3572   26.76440 1980-10-29 2    54\n",
       "4 Caulerpa taxifolia -80.5667   24.98330 1994-12-01 2    55\n",
       "5 Caulerpa taxifolia 150.4700  -35.25000 2000-06-07 2    77\n",
       "6 Caulerpa taxifolia 151.1113  -34.06925 2021-03-01 2    78"
      ]
     },
     "metadata": {},
     "output_type": "display_data"
    },
    {
     "name": "stdout",
     "output_type": "stream",
     "text": [
      "\n",
      "# unique PTS...\n",
      "\n"
     ]
    },
    {
     "data": {
      "text/html": [
       "263"
      ],
      "text/latex": [
       "263"
      ],
      "text/markdown": [
       "263"
      ],
      "text/plain": [
       "[1] 263"
      ]
     },
     "metadata": {},
     "output_type": "display_data"
    },
    {
     "name": "stdout",
     "output_type": "stream",
     "text": [
      "\n",
      "# EEZ...\n",
      "\n"
     ]
    },
    {
     "name": "stderr",
     "output_type": "stream",
     "text": [
      "although coordinates are longitude/latitude, st_intersects assumes that they are planar\n",
      "although coordinates are longitude/latitude, st_intersects assumes that they are planar\n"
     ]
    },
    {
     "data": {
      "text/html": [
       "263"
      ],
      "text/latex": [
       "263"
      ],
      "text/markdown": [
       "263"
      ],
      "text/plain": [
       "[1] 263"
      ]
     },
     "metadata": {},
     "output_type": "display_data"
    },
    {
     "name": "stdout",
     "output_type": "stream",
     "text": [
      "\n",
      "# FAO...\n",
      "\n"
     ]
    },
    {
     "name": "stderr",
     "output_type": "stream",
     "text": [
      "although coordinates are longitude/latitude, st_nearest_points assumes that they are planar\n"
     ]
    },
    {
     "data": {
      "text/html": [
       "263"
      ],
      "text/latex": [
       "263"
      ],
      "text/markdown": [
       "263"
      ],
      "text/plain": [
       "[1] 263"
      ]
     },
     "metadata": {},
     "output_type": "display_data"
    },
    {
     "name": "stdout",
     "output_type": "stream",
     "text": [
      "\n",
      "# df.ALL...\n",
      "\n",
      "nrows=  291 \n"
     ]
    },
    {
     "data": {
      "text/html": [
       "<table class=\"dataframe\">\n",
       "<caption>A data.frame: 5 × 11</caption>\n",
       "<thead>\n",
       "\t<tr><th></th><th scope=col>longitude</th><th scope=col>latitude</th><th scope=col>species</th><th scope=col>date</th><th scope=col>name</th><th scope=col>prov</th><th scope=col>key</th><th scope=col>DUPS</th><th scope=col>id</th><th scope=col>eez</th><th scope=col>fao</th></tr>\n",
       "\t<tr><th></th><th scope=col>&lt;dbl&gt;</th><th scope=col>&lt;dbl&gt;</th><th scope=col>&lt;chr&gt;</th><th scope=col>&lt;date&gt;</th><th scope=col>&lt;chr&gt;</th><th scope=col>&lt;chr&gt;</th><th scope=col>&lt;chr&gt;</th><th scope=col>&lt;int&gt;</th><th scope=col>&lt;int&gt;</th><th scope=col>&lt;chr&gt;</th><th scope=col>&lt;chr&gt;</th></tr>\n",
       "</thead>\n",
       "<tbody>\n",
       "\t<tr><th scope=row>1</th><td>  -0.02023197</td><td>49.31939</td><td>Carcinus maenas</td><td>2021-10-12</td><td>Carcinus maenas                 </td><td>inat   </td><td>98006821                            </td><td>1</td><td> 21</td><td>FRA</td><td>27</td></tr>\n",
       "\t<tr><th scope=row>2</th><td>-117.24514700</td><td>32.66790</td><td>Codium fragile </td><td>2021-01-12</td><td>Codium fragile (Suringar) Hariot</td><td>gbif   </td><td>3031703955                          </td><td>1</td><td>101</td><td>USA</td><td>77</td></tr>\n",
       "\t<tr><th scope=row>3</th><td>-117.27236000</td><td>32.85115</td><td>Codium fragile </td><td>1968-06-06</td><td>codium fragile                  </td><td>idigbio</td><td>0106de2f-d1a3-45f2-b9dc-ac876bcd2acb</td><td>1</td><td>100</td><td>USA</td><td>77</td></tr>\n",
       "\t<tr><th scope=row>4</th><td>-118.33333300</td><td>33.35000</td><td>Codium fragile </td><td>1948-03-25</td><td>Codium fragile                  </td><td>ala    </td><td>fbfc311c-1ce4-4724-80be-1e80a946e4e0</td><td>1</td><td> 99</td><td>USA</td><td>77</td></tr>\n",
       "\t<tr><th scope=row>5</th><td>-118.37580500</td><td>33.73920</td><td>Codium fragile </td><td>2021-01-15</td><td>Codium fragile (Suringar) Hariot</td><td>gbif   </td><td>3031702977                          </td><td>1</td><td> 98</td><td>USA</td><td>77</td></tr>\n",
       "</tbody>\n",
       "</table>\n"
      ],
      "text/latex": [
       "A data.frame: 5 × 11\n",
       "\\begin{tabular}{r|lllllllllll}\n",
       "  & longitude & latitude & species & date & name & prov & key & DUPS & id & eez & fao\\\\\n",
       "  & <dbl> & <dbl> & <chr> & <date> & <chr> & <chr> & <chr> & <int> & <int> & <chr> & <chr>\\\\\n",
       "\\hline\n",
       "\t1 &   -0.02023197 & 49.31939 & Carcinus maenas & 2021-10-12 & Carcinus maenas                  & inat    & 98006821                             & 1 &  21 & FRA & 27\\\\\n",
       "\t2 & -117.24514700 & 32.66790 & Codium fragile  & 2021-01-12 & Codium fragile (Suringar) Hariot & gbif    & 3031703955                           & 1 & 101 & USA & 77\\\\\n",
       "\t3 & -117.27236000 & 32.85115 & Codium fragile  & 1968-06-06 & codium fragile                   & idigbio & 0106de2f-d1a3-45f2-b9dc-ac876bcd2acb & 1 & 100 & USA & 77\\\\\n",
       "\t4 & -118.33333300 & 33.35000 & Codium fragile  & 1948-03-25 & Codium fragile                   & ala     & fbfc311c-1ce4-4724-80be-1e80a946e4e0 & 1 &  99 & USA & 77\\\\\n",
       "\t5 & -118.37580500 & 33.73920 & Codium fragile  & 2021-01-15 & Codium fragile (Suringar) Hariot & gbif    & 3031702977                           & 1 &  98 & USA & 77\\\\\n",
       "\\end{tabular}\n"
      ],
      "text/markdown": [
       "\n",
       "A data.frame: 5 × 11\n",
       "\n",
       "| <!--/--> | longitude &lt;dbl&gt; | latitude &lt;dbl&gt; | species &lt;chr&gt; | date &lt;date&gt; | name &lt;chr&gt; | prov &lt;chr&gt; | key &lt;chr&gt; | DUPS &lt;int&gt; | id &lt;int&gt; | eez &lt;chr&gt; | fao &lt;chr&gt; |\n",
       "|---|---|---|---|---|---|---|---|---|---|---|---|\n",
       "| 1 |   -0.02023197 | 49.31939 | Carcinus maenas | 2021-10-12 | Carcinus maenas                  | inat    | 98006821                             | 1 |  21 | FRA | 27 |\n",
       "| 2 | -117.24514700 | 32.66790 | Codium fragile  | 2021-01-12 | Codium fragile (Suringar) Hariot | gbif    | 3031703955                           | 1 | 101 | USA | 77 |\n",
       "| 3 | -117.27236000 | 32.85115 | Codium fragile  | 1968-06-06 | codium fragile                   | idigbio | 0106de2f-d1a3-45f2-b9dc-ac876bcd2acb | 1 | 100 | USA | 77 |\n",
       "| 4 | -118.33333300 | 33.35000 | Codium fragile  | 1948-03-25 | Codium fragile                   | ala     | fbfc311c-1ce4-4724-80be-1e80a946e4e0 | 1 |  99 | USA | 77 |\n",
       "| 5 | -118.37580500 | 33.73920 | Codium fragile  | 2021-01-15 | Codium fragile (Suringar) Hariot | gbif    | 3031702977                           | 1 |  98 | USA | 77 |\n",
       "\n"
      ],
      "text/plain": [
       "  longitude     latitude species         date      \n",
       "1   -0.02023197 49.31939 Carcinus maenas 2021-10-12\n",
       "2 -117.24514700 32.66790 Codium fragile  2021-01-12\n",
       "3 -117.27236000 32.85115 Codium fragile  1968-06-06\n",
       "4 -118.33333300 33.35000 Codium fragile  1948-03-25\n",
       "5 -118.37580500 33.73920 Codium fragile  2021-01-15\n",
       "  name                             prov    key                                 \n",
       "1 Carcinus maenas                  inat    98006821                            \n",
       "2 Codium fragile (Suringar) Hariot gbif    3031703955                          \n",
       "3 codium fragile                   idigbio 0106de2f-d1a3-45f2-b9dc-ac876bcd2acb\n",
       "4 Codium fragile                   ala     fbfc311c-1ce4-4724-80be-1e80a946e4e0\n",
       "5 Codium fragile (Suringar) Hariot gbif    3031702977                          \n",
       "  DUPS id  eez fao\n",
       "1 1     21 FRA 27 \n",
       "2 1    101 USA 77 \n",
       "3 1    100 USA 77 \n",
       "4 1     99 USA 77 \n",
       "5 1     98 USA 77 "
      ]
     },
     "metadata": {},
     "output_type": "display_data"
    },
    {
     "data": {
      "text/plain": [
       "\n",
       "21 31 37 27 77 81 57 67 71 61 51 41 47 \n",
       "59 47 38 37 22 21 21 16 13  6  6  3  2 "
      ]
     },
     "metadata": {},
     "output_type": "display_data"
    },
    {
     "data": {
      "text/plain": [
       "\n",
       "USA CAN AUS ITA UKR NLD NZL GBR IND DEU MEX DNK JPN IDN GEO EST SWE RUS NOR NCL \n",
       " 84  36  33  15   9   9   7   7   6   6   4   4   3   3   3   3   2   2   2   2 \n",
       "NAM MKD LKA FRA CYM CHE \n",
       "  2   2   2   2   2   2 "
      ]
     },
     "metadata": {},
     "output_type": "display_data"
    }
   ],
   "source": [
    "# rmbranto 2021/08 - original\n",
    "# rmbranto 2021/10/12 - rewrite\n",
    "\n",
    "# Demonstrate R programming lanquage 'spocc', 'scrubr' and 'ggplot2' packages to retrieve and combine\n",
    "# selected invasive species occurrence data from multiple source, see also: \n",
    "# https://ocean.si.edu/ocean-life/5-invasive-species-you-should-know \n",
    "# https://docs.ropensci.org/spocc/\n",
    "\n",
    "options(stringsAsFactors = FALSE)\n",
    "\n",
    "library(spocc)\n",
    "library(rinat)\n",
    "library(sparsesvd)\n",
    "library(scrubr)\n",
    "library(stringr)\n",
    "library(plyr)\n",
    "library(sf)\n",
    "\n",
    "#load(file='invasives.rda')\n",
    "#objects()\n",
    "\n",
    "########################################################################################\n",
    "########################################################################################\n",
    "# setup extraction run ...\n",
    "\n",
    "fName<-'invasives'\n",
    "fao.loc=\"geobase/World_Fao_Zones.shp\"\n",
    "eez.loc=\"geobase/EEZ_Land_v3_202030.shp\"\n",
    "species.list<-read.csv(paste(fName,'_list.csv',sep=''))\n",
    "qNames=species.list$Names\n",
    "prov.list=read.csv('prov_list.csv')\n",
    "pNames=prov.list$prov\n",
    "\n",
    "limit=9999\n",
    "limit=9\n",
    "\n",
    "extract=FALSE\n",
    "extract=TRUE\n",
    "\n",
    "########################################################################################\n",
    "########################################################################################\n",
    "# extract data ...\n",
    "\n",
    "if(extract){\n",
    "do.extract<-function(qName,pNames,limit){\n",
    "    df1<-data.frame(qName=qName,\n",
    "                    occ2df(occ(query = qName, \n",
    "                               from=pNames[!(pNames %in% c('UNIQUE','DUPS','inat'))], \n",
    "                               limit=limit, \n",
    "                               has_coords = TRUE)))\n",
    "    df2<-get_inat_obs(\n",
    "            query=qName,quality=\"research\",\n",
    "            geo=TRUE,\n",
    "            maxresults=limit)    \n",
    "    df2<-data.frame(qName=qName,\n",
    "              name=df2$scientific_name,\n",
    "              longitude=df2$longitude,\n",
    "              latitude=df2$latitude,\n",
    "              prov='inat',\n",
    "              date=df2$datetime,\n",
    "              key=df2$id)\n",
    "    return(rbind(df1,df2))\n",
    "}\n",
    "df<-NULL\n",
    "for(qName in qNames){\n",
    "    cat(qName,'...\\n')\n",
    "    df<-rbind(df,do.extract(qName,pNames,limit))\n",
    "    }\n",
    "df.raw<-df\n",
    "}\n",
    "\n",
    "cat('\\n# df.raw counts by species ...\\n\\n')\n",
    "table(df.raw$qName,df.raw$prov)%>%\n",
    "rbind(.,total=apply(.,2,sum,na.rm=TRUE))%>%\n",
    "cbind(.,total=apply(.,1,sum,na.rm=TRUE))%>%\n",
    "print(.,na.print='.')   \n",
    "\n",
    "########################################################################################\n",
    "########################################################################################\n",
    "# scrub data\n",
    "\n",
    "df<-df.raw\n",
    "names(df)[1]<-'species'\n",
    "\n",
    "# fix coordinates\n",
    "\n",
    "df$latitude<-round(as.numeric(df$latitude),12)\n",
    "df$longitude<-round(as.numeric(df$longitude),12)\n",
    "\n",
    "df<-dframe(df) %>%\n",
    "    coord_impossible() %>%\n",
    "    coord_incomplete() %>%\n",
    "    coord_unlikely()\n",
    "\n",
    "# fix dates ...\n",
    "df<-df[!is.na(df$date),]\n",
    "df<-df[as.character(df$date)>'1111-11-11',]\n",
    "\n",
    "df<-df[df$date<=Sys.Date(),]\n",
    "\n",
    "df.clean<-df\n",
    "nrow(df.clean)\n",
    "range(df.clean$date)\n",
    "\n",
    "cat('\\n# df.clean counts by species & prov ...\\n\\n')\n",
    "table(df.clean$species,df.clean$prov)%>%\n",
    "rbind(.,col.totals=apply(.,2,sum,na.rm=TRUE))%>%\n",
    "cbind(.,ALL=apply(.,1,sum,na.rm=TRUE))%>%\n",
    "print(.,na.print='.')   \n",
    "\n",
    "cat('\\n# df.clean occurrrence counts by species & provs and by ALL, UNIQUE & DUPS ...\\n\\n')\n",
    "table(df.clean$species,df.clean$prov)%>%\n",
    "cbind(.,ALL=apply(.,1,sum,na.rm=TRUE))%>%\n",
    "cbind(.,UNIQUE=table(count(df.clean,c('species','longitude','latitude','date'))$species))%>%\n",
    "cbind(.,DUPS=.[,'ALL']-.[,'UNIQUE'])%>%\n",
    "rbind(.,col.totals=apply(.,2,sum,na.rm=TRUE))%>%\n",
    "print(.,na.print='.')   \n",
    "\n",
    "########################################################################################\n",
    "########################################################################################\n",
    "# create df.UNIQUE ...\n",
    "cat('\\n# df.unique...\\n\\n')\n",
    "df.UNIQUE<-count(df.clean,c('species','longitude','latitude','date'))\n",
    "names(df.UNIQUE)[5]<-'DUPS'\n",
    "df.UNIQUE$id=seq.int(nrow(df.UNIQUE))\n",
    "cat('UNIQUE=',nrow(df.UNIQUE),'\\n')\n",
    "head(df.UNIQUE)\n",
    "\n",
    "#create df.ALL ...\n",
    "cat('\\n# df.ALL...\\n\\n')\n",
    "df.ALL=merge(df.clean,df.UNIQUE,by=c(c('species','longitude','latitude','date')))\n",
    "cat('ALL=',nrow(df.ALL),'\\n')\n",
    "cat('UNIQUE=',nrow(count(df.ALL$id)),'\\n')\n",
    "cat('DUPS=',length(df.ALL$DUPS[df.ALL$DUPS>1])-nrow(count(df.ALL$id[df.ALL$DUPS>1])))\n",
    "head(df.ALL)\n",
    "\n",
    "# create df.DUPS ...\n",
    "cat('\\n# df.DUPS...\\n\\n')\n",
    "df.DUPS=count(df.ALL[df.ALL$DUP>1,],c('species','longitude','latitude','date','id'))\n",
    "names(df.DUPS)[6]='DUPS'\n",
    "df.DUPS=df.DUPS[,c('species','longitude','latitude','date','DUPS','id')]\n",
    "cat('nrows=',nrow(df.DUPS),'\\n')\n",
    "cat('DUPS=',sum(df.DUPS$DUPS)-nrow(df.DUPS),'\\n')\n",
    "head(df.DUPS)\n",
    "\n",
    "########################################################################################\n",
    "########################################################################################\n",
    "# eez and fao indexing\n",
    "\n",
    "cat('\\n# unique PTS...\\n\\n')\n",
    "\n",
    "fao.shp=st_read(fao.loc,quiet=T)\n",
    "eez.shp=st_read(eez.loc,quiet=T)\n",
    "\n",
    "prov.pts<-count(df.ALL,c('latitude','longitude'))[,1:2]\n",
    "nrow(prov.pts)\n",
    "\n",
    "cat('\\n# EEZ...\\n\\n')\n",
    "\n",
    "eez.pts<-st_as_sf(prov.pts,coords = c('longitude','latitude'), crs = st_crs(eez.shp))\n",
    "eez.intersect<-data.frame(st_intersects(eez.pts, eez.shp))\n",
    "nrow(eez.intersect)\n",
    "\n",
    "prov.pts$eez='UNK'\n",
    "for(i in 1:nrow(eez.intersect)){\n",
    "    prov.pts$eez[eez.intersect$row.id[i]]<-eez.shp$ISO_TER1[eez.intersect$col.id[i]]    \n",
    "}\n",
    "\n",
    "cat('\\n# FAO...\\n\\n')\n",
    "\n",
    "fao.pts<-st_as_sf(prov.pts,coords = c('longitude','latitude'), crs = st_crs(fao.shp))\n",
    "fao.nearest<-data.frame(st_nearest_feature(fao.pts, fao.shp))\n",
    "nrow(fao.nearest)\n",
    "\n",
    "prov.pts$fao='99'\n",
    "for(i in 1:nrow(fao.nearest)){\n",
    "    prov.pts$fao[i]<-fao.shp$zone[fao.nearest[i,1]]    \n",
    "}\n",
    "\n",
    "cat('\\n# df.ALL...\\n\\n')\n",
    "\n",
    "df.ALL<-merge(df.ALL,prov.pts,by=c('longitude','latitude'))#[,c(3:9,1:2,10:11)]\n",
    "\n",
    "cat('nrows= ',nrow(df.ALL),'\\n')\n",
    "head(df.ALL,5)\n",
    "table(df.ALL$fao)[rev(order(table(df.ALL$fao)))]\n",
    "table(df.ALL$eez)[rev(order(table(df.ALL$eez)))][1:26]"
   ]
  },
  {
   "cell_type": "code",
   "execution_count": 7,
   "id": "90c1857f",
   "metadata": {},
   "outputs": [
    {
     "name": "stderr",
     "output_type": "stream",
     "text": [
      "Warning message in foo_ala(sources, x, y, s, z, hc, d, w, ds$ala):\n",
      "“No records returned in ALA for Dreissena polymorpha”Warning message:\n",
      "“Unknown or uninitialised column: `prov`.”Warning message in foo_ala(sources, x, y, s, z, hc, d, w, ds$ala):\n",
      "“No records returned in ALA for Mnemiopsis leidyi”Warning message:\n",
      "“Unknown or uninitialised column: `prov`.”Warning message in foo_ala(sources, x, y, s, z, hc, d, w, ds$ala):\n",
      "“No records returned in ALA for Rapana venosa”Warning message:\n",
      "“Unknown or uninitialised column: `prov`.”Warning message:\n",
      "“bison: No records returned in Bison for Rapana venosa”Warning message:\n",
      "“bison: ”Warning message:\n",
      "“Unknown or uninitialised column: `prov`.”"
     ]
    },
    {
     "data": {
      "text/html": [
       "<table class=\"dataframe\">\n",
       "<caption>A data.frame: 7 × 7</caption>\n",
       "<thead>\n",
       "\t<tr><th scope=col>species</th><th scope=col>ala</th><th scope=col>bison</th><th scope=col>gbif</th><th scope=col>idigbio</th><th scope=col>inat</th><th scope=col>obis</th></tr>\n",
       "\t<tr><th scope=col>&lt;chr&gt;</th><th scope=col>&lt;chr&gt;</th><th scope=col>&lt;chr&gt;</th><th scope=col>&lt;chr&gt;</th><th scope=col>&lt;chr&gt;</th><th scope=col>&lt;chr&gt;</th><th scope=col>&lt;chr&gt;</th></tr>\n",
       "</thead>\n",
       "<tbody>\n",
       "\t<tr><td>Carcinus maenas     </td><td>284294</td><td>98734 </td><td>5178595</td><td>5178595</td><td>52523 </td><td>107381</td></tr>\n",
       "\t<tr><td>Caulerpa taxifolia  </td><td>83052 </td><td>6974  </td><td>2643172</td><td>2643172</td><td>50919 </td><td>144476</td></tr>\n",
       "\t<tr><td>Codium fragile      </td><td>84082 </td><td>6897  </td><td>5272096</td><td>5272096</td><td>67555 </td><td>145086</td></tr>\n",
       "\t<tr><td>Dreissena polymorpha</td><td>NA    </td><td>81339 </td><td>2287072</td><td>2287072</td><td>116340</td><td>181566</td></tr>\n",
       "\t<tr><td>Mnemiopsis leidyi   </td><td>NA    </td><td>53917 </td><td>2501248</td><td>2501248</td><td>180788</td><td>106401</td></tr>\n",
       "\t<tr><td>Pterois volitans    </td><td>189453</td><td>166883</td><td>2334438</td><td>2334438</td><td>47280 </td><td>159559</td></tr>\n",
       "\t<tr><td>Rapana venosa       </td><td>NA    </td><td>NA    </td><td>4363583</td><td>NA     </td><td>370913</td><td>140416</td></tr>\n",
       "</tbody>\n",
       "</table>\n"
      ],
      "text/latex": [
       "A data.frame: 7 × 7\n",
       "\\begin{tabular}{lllllll}\n",
       " species & ala & bison & gbif & idigbio & inat & obis\\\\\n",
       " <chr> & <chr> & <chr> & <chr> & <chr> & <chr> & <chr>\\\\\n",
       "\\hline\n",
       "\t Carcinus maenas      & 284294 & 98734  & 5178595 & 5178595 & 52523  & 107381\\\\\n",
       "\t Caulerpa taxifolia   & 83052  & 6974   & 2643172 & 2643172 & 50919  & 144476\\\\\n",
       "\t Codium fragile       & 84082  & 6897   & 5272096 & 5272096 & 67555  & 145086\\\\\n",
       "\t Dreissena polymorpha & NA     & 81339  & 2287072 & 2287072 & 116340 & 181566\\\\\n",
       "\t Mnemiopsis leidyi    & NA     & 53917  & 2501248 & 2501248 & 180788 & 106401\\\\\n",
       "\t Pterois volitans     & 189453 & 166883 & 2334438 & 2334438 & 47280  & 159559\\\\\n",
       "\t Rapana venosa        & NA     & NA     & 4363583 & NA      & 370913 & 140416\\\\\n",
       "\\end{tabular}\n"
      ],
      "text/markdown": [
       "\n",
       "A data.frame: 7 × 7\n",
       "\n",
       "| species &lt;chr&gt; | ala &lt;chr&gt; | bison &lt;chr&gt; | gbif &lt;chr&gt; | idigbio &lt;chr&gt; | inat &lt;chr&gt; | obis &lt;chr&gt; |\n",
       "|---|---|---|---|---|---|---|\n",
       "| Carcinus maenas      | 284294 | 98734  | 5178595 | 5178595 | 52523  | 107381 |\n",
       "| Caulerpa taxifolia   | 83052  | 6974   | 2643172 | 2643172 | 50919  | 144476 |\n",
       "| Codium fragile       | 84082  | 6897   | 5272096 | 5272096 | 67555  | 145086 |\n",
       "| Dreissena polymorpha | NA     | 81339  | 2287072 | 2287072 | 116340 | 181566 |\n",
       "| Mnemiopsis leidyi    | NA     | 53917  | 2501248 | 2501248 | 180788 | 106401 |\n",
       "| Pterois volitans     | 189453 | 166883 | 2334438 | 2334438 | 47280  | 159559 |\n",
       "| Rapana venosa        | NA     | NA     | 4363583 | NA      | 370913 | 140416 |\n",
       "\n"
      ],
      "text/plain": [
       "  species              ala    bison  gbif    idigbio inat   obis  \n",
       "1 Carcinus maenas      284294 98734  5178595 5178595 52523  107381\n",
       "2 Caulerpa taxifolia   83052  6974   2643172 2643172 50919  144476\n",
       "3 Codium fragile       84082  6897   5272096 5272096 67555  145086\n",
       "4 Dreissena polymorpha NA     81339  2287072 2287072 116340 181566\n",
       "5 Mnemiopsis leidyi    NA     53917  2501248 2501248 180788 106401\n",
       "6 Pterois volitans     189453 166883 2334438 2334438 47280  159559\n",
       "7 Rapana venosa        NA     NA     4363583 NA      370913 140416"
      ]
     },
     "metadata": {},
     "output_type": "display_data"
    }
   ],
   "source": [
    "########################################################################################\n",
    "########################################################################################\n",
    "# get taxon.ids for each provider and species \n",
    "#\n",
    "\n",
    "prov.keys<-data.frame(species=species.list$Names)\n",
    "\n",
    "for(my.prov in c('ala','bison','gbif','idigbio','inat','obis')){\n",
    "\n",
    "spec.keys<-NULL\n",
    "\n",
    "for (my.species in species.list$Names){\n",
    "    \n",
    "    an.error.occured <- FALSE\n",
    "    \n",
    "    tryCatch(\n",
    "        \n",
    "    { \n",
    "      if(my.prov=='ala'){\n",
    "        result=as.character(\n",
    "        as.ala(occ(query=my.species,from='ala',limit=1))[[1]]$processed$classification$left\n",
    "        )\n",
    "      }\n",
    "      if(my.prov=='bison'){\n",
    "        result=as.character(\n",
    "        as.bison(occ(query=my.species,from='bison',limit=1))[[1]]$points$ITIStsn\n",
    "        )\n",
    "      }\n",
    "      if(my.prov=='gbif'){\n",
    "        result=as.character(\n",
    "        as.gbif(occ(query=my.species,from='gbif',limit=1, has_coords = TRUE))[[1]][[1]]$hierarchy$key[7]\n",
    "        )\n",
    "      }\n",
    "      if(my.prov=='idigbio'){\n",
    "        result=as.character(\n",
    "        as.idigbio(occ(query=my.species,from='idigbio',limit=1, has_coords = TRUE))[[1]]$indexTerms$taxonid\n",
    "        )\n",
    "      }\n",
    "      if(my.prov=='inat'){\n",
    "        result=as.character(\n",
    "        as.inat(occ(query=my.species,from='inat',limit=1, has_coords = TRUE))[[1]]$results$taxon$id\n",
    "        )\n",
    "      }\n",
    "      if(my.prov=='obis'){\n",
    "        result=as.character(\n",
    "        as.obis(occ(query=my.species,from='obis',limit=1))[[1]]$results$aphiaID\n",
    "        )\n",
    "      }\n",
    "    }\n",
    "\n",
    "    ,error = function(e) {an.error.occured <<- TRUE}\n",
    "             \n",
    "            )\n",
    "\n",
    "    if(an.error.occured){result<-NA}\n",
    "    \n",
    "    spec.keys<<-c(spec.keys,ifelse(is.null(result),NA,result))\n",
    "}\n",
    "\n",
    "names(spec.keys)\n",
    "    \n",
    "prov.keys<-cbind(prov.keys,spec.keys)\n",
    "\n",
    "colnames(prov.keys)[ncol(prov.keys)]<-my.prov \n",
    "\n",
    "}\n",
    "\n",
    "prov.keys"
   ]
  },
  {
   "cell_type": "code",
   "execution_count": 43,
   "id": "22ea9e3b",
   "metadata": {},
   "outputs": [],
   "source": [
    "# idigbio not showing Rapana venosa !!\n",
    "x=occ(query='Pterois volitans',from='idigbio',limit=1, has_coords = TRUE)"
   ]
  },
  {
   "cell_type": "code",
   "execution_count": 44,
   "id": "1cfbb4e6",
   "metadata": {},
   "outputs": [
    {
     "data": {
      "text/html": [
       "'2334438'"
      ],
      "text/latex": [
       "'2334438'"
      ],
      "text/markdown": [
       "'2334438'"
      ],
      "text/plain": [
       "[1] \"2334438\""
      ]
     },
     "metadata": {},
     "output_type": "display_data"
    }
   ],
   "source": [
    "as.idigbio(x)[[1]]$indexTerms$taxonid"
   ]
  },
  {
   "cell_type": "code",
   "execution_count": null,
   "id": "0093438e",
   "metadata": {},
   "outputs": [],
   "source": [
    "########################################################################################\n",
    "########################################################################################\n",
    "# save outputs\n",
    "\n",
    "objects()\n",
    "save(list=objects(),file=fName )           \n",
    "\n",
    "save(list=c('df.ALL','species.list','fao.shp','eez.shp','prov.list','prov.keys'),file=paste('short-',fName,sep=''))"
   ]
  }
 ],
 "metadata": {
  "kernelspec": {
   "display_name": "R",
   "language": "R",
   "name": "ir"
  },
  "language_info": {
   "codemirror_mode": "r",
   "file_extension": ".r",
   "mimetype": "text/x-r-source",
   "name": "R",
   "pygments_lexer": "r",
   "version": "3.6.3"
  }
 },
 "nbformat": 4,
 "nbformat_minor": 5
}
